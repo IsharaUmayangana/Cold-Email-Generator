{
 "cells": [
  {
   "cell_type": "code",
   "execution_count": 4,
   "id": "c735aa82-b8a2-433c-820d-c105143afcc4",
   "metadata": {},
   "outputs": [],
   "source": [
    "from langchain_groq import ChatGroq"
   ]
  },
  {
   "cell_type": "code",
   "execution_count": 6,
   "id": "b7aa3d8d-c859-42fa-a99e-46018fb357a6",
   "metadata": {},
   "outputs": [],
   "source": [
    "llm = ChatGroq(\n",
    "    temperature=0,\n",
    "    groq_api_key=\"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\",\n",
    "    model=\"llama-3.3-70b-versatile\"\n",
    ")"
   ]
  },
  {
   "cell_type": "code",
   "execution_count": 8,
   "id": "8b74c47d-e574-46d4-8e3c-c61de1e07c02",
   "metadata": {},
   "outputs": [
    {
     "name": "stdout",
     "output_type": "stream",
     "text": [
      "The invention of the smartphone is a bit complex, as it involved the contributions of many individuals and companies over several decades. However, I can give you an overview of the key players and milestones that led to the development of modern smartphones.\n",
      "\n",
      "**Early beginnings:**\n",
      "The first mobile phone was invented by Martin Cooper, an engineer at Motorola, in 1973. Cooper made the first public call on a handheld mobile phone on April 3, 1973, calling a rival telecommunications company to declare that he was speaking from a cell phone.\n",
      "\n",
      "**The first smartphone:**\n",
      "The first smartphone is often credited to IBM, which released the IBM Simon Personal Communicator in 1994. This device had a touchscreen display, email, fax, and phone capabilities, as well as a calendar and address book. It was a bulky device that weighed around 18 ounces and had a price tag of $999.\n",
      "\n",
      "**The modern smartphone:**\n",
      "The modern smartphone as we know it today was popularized by Apple's iPhone, which was released in 2007. The iPhone was the brainchild of Steve Jobs, Apple's co-founder and CEO at the time. The iPhone introduced a multi-touch interface, a mobile app store, and a sleek design that revolutionized the smartphone industry.\n",
      "\n",
      "**Other key players:**\n",
      "Other companies and individuals also played important roles in the development of smartphones, including:\n",
      "\n",
      "* Nokia, which released the Nokia 9000 Communicator in 1996, a device that combined phone, email, and web browsing capabilities.\n",
      "* BlackBerry, which introduced the first smartphone with a physical keyboard and email capabilities in 1999.\n",
      "* Google, which developed the Android operating system, which is now used by many smartphone manufacturers.\n",
      "* Samsung, which has become one of the largest smartphone manufacturers in the world, releasing a wide range of Android-based devices.\n",
      "\n",
      "In summary, while it is difficult to attribute the invention of the smartphone to a single person, Martin Cooper, IBM, and Apple's Steve Jobs are some of the key figures who contributed to the development of modern smartphones.\n"
     ]
    }
   ],
   "source": [
    "response = llm.invoke(\"Who invented the smart phone\")\n",
    "\n",
    "print(response.content)"
   ]
  },
  {
   "cell_type": "code",
   "execution_count": 10,
   "id": "c6a16cb2-1967-470e-8aa1-890730613f63",
   "metadata": {},
   "outputs": [
    {
     "name": "stderr",
     "output_type": "stream",
     "text": [
      "USER_AGENT environment variable not set, consider setting it to identify your requests.\n"
     ]
    }
   ],
   "source": [
    "from langchain_community.document_loaders import WebBaseLoader\n",
    "\n",
    "loader = WebBaseLoader(\"https://jobs.nike.com/job/R-41188\")\n"
   ]
  },
  {
   "cell_type": "code",
   "execution_count": 12,
   "id": "dc788ed7-1782-43d3-bb4f-df705f4b4d99",
   "metadata": {},
   "outputs": [
    {
     "name": "stdout",
     "output_type": "stream",
     "text": [
      "Apply for Senior Manager– AI/ML Engineering\n",
      "\n",
      "Search JobsSkip navigationSearch JobsNIKE, INC. JOBSContract JobsJoin The Talent CommunityLife @ NikeOverviewBenefitsBrandsOverviewJordanConverseTeamsOverviewAdministrative SupportAdvanced InnovationAir Manufacturing InnovationAviationCommunicationsCustomer ServiceDesignDigitalFacilitiesFinance & AccountingGovernment & Public AffairsHuman ResourcesInsights & AnalyticsLegalManufacturing & EngineeringMarketingMerchandisingPlanningPrivacyProcurementProduct Creation, Development & ManagementRetail CorporateRetail StoresSalesSocial & Community ImpactSports MarketingStrategic PlanningSupply Chain, Distribution & LogisticsSustainabilityTechnologyLocationsOverviewNike WHQNike New York HQEHQ: Hilversum, The NetherlandsELC: Laakdal, BelgiumGreater China HQDiversity, Equity & InclusionOverviewMilitary InclusionDisability InclusionIndigenous InclusionInternshipsData & AnalyticsSenior Manager– AI/ML EngineeringBeaverton, OregonBecome a Part of the NIKE, Inc. Team\n",
      "NIKE, Inc. does more than outfit the world’s best athletes. It is a place to explore potential, obliterate boundaries and push out the edges of what can be. The company looks for people who can grow, think, dream and create. Its culture thrives by embracing diversity and rewarding imagination. The brand seeks achievers, leaders and visionaries. At NIKE, Inc. it’s about each person bringing skills and passion to a challenging and constantly evolving game.Open to remote work except in South Dakota, Vermont and West Virginia.The annual base salary for this position ranges from $138,400.00 in our lowest geographic market to $327,200.00 in our highest geographic market. Actual salary will vary based on a candidate's location, qualifications, skills and experience.Information about benefits can be found here. Sr. Manager– AI/ML Engineering NIKE, Inc. does more than outfit the world’s best athletes. It is a place to explore potential, obliterate boundaries and redefine what can be. We look for colleagues who can grow, think, dream and create. Our culture thrives by embracing diversity and rewarding imagination. The Nike brand seeks achievers, leaders and visionaries. At NIKE, Inc. it’s about each person bringing skills and passion to a challenging and constantly evolving game.  WHO ARE WE LOOKING FOR  Nike is looking for an experienced Engineering leader who can lead and grow teams of machine learning engineers, data scientists, and software architects to deliver scalable machine learning and artificial intelligence solutions to customers across our business. As a Sr. Manager in AI/ML Engineering, you will be a part of a cross-disciplinary (data/API/infra/infosec/ML) engineering leadership team tasked with executing on the AI/ML organization’s charter. In this role you will be working at the intersection of machine learning and engineering (i.e., MLOps), leading teams to deliver innovative and high-quality services which power Nike’s supply chain. You will be a strong advocate for both engineering best practices (e.g. code reviews, unit testing) and also the adoption of new technologies (e.g. DataBricks, SageMaker, LLM optimization) which can help us move faster on our journey. In this way, you will be responsible for coaching engineers to continuously elevate their engineering skills and for growing their careers at Nike.  WHO WILL YOU WORK WITH  Artificial Intelligence and Machine Learning (AI/ML) is one of the key groups within Data and Artificial Intelligence and we have been chartered to help scale machine learning across Nike.  We bring cross-disciplinary teams of data scientists and engineers to areas of the business which are early in their analytics journey. For areas of the business which are more mature and already have data science teams, we help scale machine learning by providing squads of engineers to maximize the velocity of those data science teams in delivering value to the business. Lastly, we work closely with our platform and architecture partners to develop capabilities which help machine learning scale easier at Nike (e.g. model management, A/B testing, feature stores).  This role reports to the Director of AI/ML Engineering.   Essential Job Functions: Serve as part of a cross-functional leadership team to grow highly skilled, diverse engineering teams that deliver solutions which unlock machine learning for Nike.  Engage employees, assist the teams by removing roadblocks, and align efforts across Nike’s matrix to drive progress forward and always win as a team. Leverage your prior experience, knowledge of industry trends, and personal creativity to develop and drive new and innovative solutions which delight our customers in their mission to serve Athletes*. Stay current with industry trends and recommend relevant technologies & products in the areas of analytics, machine learning, artificial intelligence, and data science. Given the rapid pace of change in technology and machine learning today, always be pushing the boundary of what’s possible and be on the offense always. Embrace and embody Nike’s core values (maxims) in your work and interactions with peers, stakeholders, and direct reports.  Model clarity and accountability as a leader of Nike. Communicate effectively, build trust and strong relationships across the company, do the right thing. Be a mentor to teams, individuals, and technical leaders to foster motivated contributors, collaborative stakeholders, and high performing teams.  Set high standards for engineering excellence, MLOPs, operational excellence, and drive innovation. Curiosity.  WHAT YOU BRING TO NIKE A demonstrated technical leader with deep knowledge and experience in delivering production grade software at scale. Able to dive deep into code and architecture to provide an informed opinion on benefits/trade-offs of different design choice. Comparable Bachelor’s Degree in computer science, software engineering, or applicable field (’s degree or Ph.D. preferred). 7+ years of experience across multiple roles in developing productionized code in software or data engineering, machine learning or a related field (experience delivering analytics and ML products preferred). 4+ years in a leadership or management role using Agile frameworks, processes, and team structures. Familiarity with ETL, ML, or analytics technologies such as Scikit-learn, Dask, Tensorflow, Kubeflow, Spark, EMR, or similar platforms and frameworks.  Must be able to meaningfully communicate, written, orally, and visually, technical topics with stakeholders and articulate the benefits and tradeoffs of each solution and connect them to business value. Fluency in the application of open-source technologies and the impact of standardized platforms. Ability to make build/buy decisions in the area of Data Science, AI, & ML. Must be able to articulate and evangelize MLOps, code management workflows, infrastructure as code, and the lifecycle of model development from experimentation to production and measurement.  This will include a deep knowledge of software architecture and engineering best practices, especially modern cloud computing stacks for deploying machine learning at scale. Experience in team leadership and building positive relationships across Product, Architecture, and Engineering, and ability to influence decisions and changes across loosely coupled teams. The habits of a constant learner.  We are committed to fostering a diverse and inclusive environment for all employees and job applicants. We offer a number of accommodations to complete our interview process including screen readers, sign language interpreters, accessible and single location for in-person interviews, closed captioning, and other reasonable modifications as needed. If you discover, as you navigate our application process, that you need assistance or an accommodation due to a disability, please complete the Candidate Accommodation Request Form.NIKE, Inc. is a growth company that looks for team members to grow with it. Nike offers a generous total rewards package, casual work environment, a diverse and inclusive culture, and an electric atmosphere for professional development. No matter the location, or the role, every Nike employee shares one galvanizing mission: To bring inspiration and innovation to every athlete* in the world.NIKE, Inc. is committed to employing a diverse workforce. Qualified applicants will receive consideration without regard to race, color, religion, sex, national origin, age, sexual orientation, gender identity, gender expression, veteran status, or disability.How We HireAt NIKE, Inc. we promise to provide a premium, inclusive, compelling and authentic candidate experience. Delivering on this promise means we allow you to be at your best — and to do that, you need to understand how the hiring process works. Transparency is key.\n",
      "\n",
      "* This overview explains our hiring process for corporate roles. Note there may be different hiring steps involved for non-corporate roles.Start nowBenefitsWhether it’s transportation or financial health, we continually invest in our employees to help them achieve greatness — inside and outside of work. All who work here should be able to realize their full potential.Employee Assistance ProgramEmployee Stock Purchase Plan (ESPP)HolidaysMedical PlanPaid Time Off (PTO)Product DiscountsSabbaticalsLearn moreGIFT CARDSPROMOTIONSFIND A STORESIGN UP FOR EMAILBECOME A MEMBERNIKE JOURNALSEND US FEEDBACKGET HELPGET HELPOrder StatusShipping and DeliveryReturnsPayment OptionsGift Cards BalanceContact UsABOUT NIKEABOUT NIKENewsCareersInvestorsPurposeSustainabilityUnited States© 2024 Nike, Inc. All Rights ReservedGuidesNike AdaptNike Air MaxNike FlyleatherNike ReactSpace HippieNike AirNike FlyEaseNike Free Nike VaporflyNike Air Force 1 Nike FlyknitNike JoyrideNike ZoomXTerms of SaleTerms of UseNike Privacy PolicyYour Privacy ChoicesCA Supply Chain Act\n"
     ]
    }
   ],
   "source": [
    "page_data = loader.load().pop().page_content\n",
    "print(page_data)"
   ]
  },
  {
   "cell_type": "code",
   "execution_count": 14,
   "id": "145a758e-0f70-4c5a-9468-eb57885c802d",
   "metadata": {},
   "outputs": [],
   "source": [
    "from langchain_core.prompts import PromptTemplate"
   ]
  },
  {
   "cell_type": "code",
   "execution_count": 16,
   "id": "cc905d60-6bd4-4fa3-ab6b-822e84f582b0",
   "metadata": {},
   "outputs": [
    {
     "name": "stdout",
     "output_type": "stream",
     "text": [
      "```json\n",
      "{\n",
      "  \"role\": \"Senior Manager– AI/ML Engineering\",\n",
      "  \"experience\": \"7+ years of experience across multiple roles in developing productionized code in software or data engineering, machine learning or a related field\",\n",
      "  \"skills\": [\n",
      "    \"Machine Learning\",\n",
      "    \"Artificial Intelligence\",\n",
      "    \"Data Science\",\n",
      "    \"Software Engineering\",\n",
      "    \"Agile frameworks\",\n",
      "    \"ETL\",\n",
      "    \"Scikit-learn\",\n",
      "    \"Dask\",\n",
      "    \"Tensorflow\",\n",
      "    \"Kubeflow\",\n",
      "    \"Spark\",\n",
      "    \"EMR\"\n",
      "  ],\n",
      "  \"description\": \"Nike is looking for an experienced Engineering leader who can lead and grow teams of machine learning engineers, data scientists, and software architects to deliver scalable machine learning and artificial intelligence solutions to customers across our business.\"\n",
      "}\n",
      "```\n"
     ]
    }
   ],
   "source": [
    "prompt_extract = PromptTemplate.from_template(\n",
    "    '''\n",
    "    ### SCRAPED TEXT FROM WBSITE:\n",
    "    {page_data}\n",
    "    ### INSTRUCTION:\n",
    "    The scraped text is from the career's page of a website.\n",
    "    Your job is to extract the job postings and return them in the JSON format containing following keys:`role`, `experience`, `skills` and `description`.\n",
    "    Only return the valid JSON.\n",
    "    ### VALID JSON. (NO PREAMBLE):\n",
    "    '''\n",
    ")\n",
    "\n",
    "chain_extract = prompt_extract | llm\n",
    "res = chain_extract.invoke(input={'page_data': page_data})\n",
    "print(res.content)"
   ]
  },
  {
   "cell_type": "code",
   "execution_count": 18,
   "id": "3e215e30-dc07-4d76-91db-e8fd37317bc5",
   "metadata": {},
   "outputs": [
    {
     "data": {
      "text/plain": [
       "str"
      ]
     },
     "execution_count": 18,
     "metadata": {},
     "output_type": "execute_result"
    }
   ],
   "source": [
    "type(res.content)"
   ]
  },
  {
   "cell_type": "code",
   "execution_count": 20,
   "id": "e7b73028-b5f5-491e-a984-351f093e1322",
   "metadata": {},
   "outputs": [],
   "source": [
    "from langchain_core.output_parsers import JsonOutputParser"
   ]
  },
  {
   "cell_type": "code",
   "execution_count": 22,
   "id": "9f5cad24-bbbf-4c44-8719-e2c8e883cce8",
   "metadata": {},
   "outputs": [
    {
     "data": {
      "text/plain": [
       "{'role': 'Senior Manager– AI/ML Engineering',\n",
       " 'experience': '7+ years of experience across multiple roles in developing productionized code in software or data engineering, machine learning or a related field',\n",
       " 'skills': ['Machine Learning',\n",
       "  'Artificial Intelligence',\n",
       "  'Data Science',\n",
       "  'Software Engineering',\n",
       "  'Agile frameworks',\n",
       "  'ETL',\n",
       "  'Scikit-learn',\n",
       "  'Dask',\n",
       "  'Tensorflow',\n",
       "  'Kubeflow',\n",
       "  'Spark',\n",
       "  'EMR'],\n",
       " 'description': 'Nike is looking for an experienced Engineering leader who can lead and grow teams of machine learning engineers, data scientists, and software architects to deliver scalable machine learning and artificial intelligence solutions to customers across our business.'}"
      ]
     },
     "execution_count": 22,
     "metadata": {},
     "output_type": "execute_result"
    }
   ],
   "source": [
    "json_parser = JsonOutputParser()\n",
    "json_res = json_parser.parse(res.content)\n",
    "json_res"
   ]
  },
  {
   "cell_type": "code",
   "execution_count": 24,
   "id": "a030d66f-5439-4c73-a2b1-c531a7111c0e",
   "metadata": {},
   "outputs": [
    {
     "data": {
      "text/plain": [
       "dict"
      ]
     },
     "execution_count": 24,
     "metadata": {},
     "output_type": "execute_result"
    }
   ],
   "source": [
    "type(json_res)"
   ]
  },
  {
   "cell_type": "code",
   "execution_count": 26,
   "id": "51a4adf3-17c1-474f-9a7e-3660a3baf298",
   "metadata": {},
   "outputs": [],
   "source": [
    "import pandas as pd"
   ]
  },
  {
   "cell_type": "code",
   "execution_count": 28,
   "id": "095fea0b-143e-4f8e-bf3c-8d2efd210076",
   "metadata": {},
   "outputs": [
    {
     "data": {
      "text/html": [
       "<div>\n",
       "<style scoped>\n",
       "    .dataframe tbody tr th:only-of-type {\n",
       "        vertical-align: middle;\n",
       "    }\n",
       "\n",
       "    .dataframe tbody tr th {\n",
       "        vertical-align: top;\n",
       "    }\n",
       "\n",
       "    .dataframe thead th {\n",
       "        text-align: right;\n",
       "    }\n",
       "</style>\n",
       "<table border=\"1\" class=\"dataframe\">\n",
       "  <thead>\n",
       "    <tr style=\"text-align: right;\">\n",
       "      <th></th>\n",
       "      <th>Techstack</th>\n",
       "      <th>Links</th>\n",
       "    </tr>\n",
       "  </thead>\n",
       "  <tbody>\n",
       "    <tr>\n",
       "      <th>0</th>\n",
       "      <td>React, Node.js, MongoDB</td>\n",
       "      <td>https://example.com/react-portfolio</td>\n",
       "    </tr>\n",
       "    <tr>\n",
       "      <th>1</th>\n",
       "      <td>Angular,.NET, SQL Server</td>\n",
       "      <td>https://example.com/angular-portfolio</td>\n",
       "    </tr>\n",
       "    <tr>\n",
       "      <th>2</th>\n",
       "      <td>Vue.js, Ruby on Rails, PostgreSQL</td>\n",
       "      <td>https://example.com/vue-portfolio</td>\n",
       "    </tr>\n",
       "    <tr>\n",
       "      <th>3</th>\n",
       "      <td>Python, Django, MySQL</td>\n",
       "      <td>https://example.com/python-portfolio</td>\n",
       "    </tr>\n",
       "    <tr>\n",
       "      <th>4</th>\n",
       "      <td>Java, Spring Boot, Oracle</td>\n",
       "      <td>https://example.com/java-portfolio</td>\n",
       "    </tr>\n",
       "    <tr>\n",
       "      <th>5</th>\n",
       "      <td>Flutter, Firebase, GraphQL</td>\n",
       "      <td>https://example.com/flutter-portfolio</td>\n",
       "    </tr>\n",
       "    <tr>\n",
       "      <th>6</th>\n",
       "      <td>WordPress, PHP, MySQL</td>\n",
       "      <td>https://example.com/wordpress-portfolio</td>\n",
       "    </tr>\n",
       "    <tr>\n",
       "      <th>7</th>\n",
       "      <td>Magento, PHP, MySQL</td>\n",
       "      <td>https://example.com/magento-portfolio</td>\n",
       "    </tr>\n",
       "    <tr>\n",
       "      <th>8</th>\n",
       "      <td>React Native, Node.js, MongoDB</td>\n",
       "      <td>https://example.com/react-native-portfolio</td>\n",
       "    </tr>\n",
       "    <tr>\n",
       "      <th>9</th>\n",
       "      <td>iOS, Swift, Core Data</td>\n",
       "      <td>https://example.com/ios-portfolio</td>\n",
       "    </tr>\n",
       "    <tr>\n",
       "      <th>10</th>\n",
       "      <td>Android, Java, Room Persistence</td>\n",
       "      <td>https://example.com/android-portfolio</td>\n",
       "    </tr>\n",
       "    <tr>\n",
       "      <th>11</th>\n",
       "      <td>Kotlin, Android, Firebase</td>\n",
       "      <td>https://example.com/kotlin-android-portfolio</td>\n",
       "    </tr>\n",
       "    <tr>\n",
       "      <th>12</th>\n",
       "      <td>Android TV, Kotlin, Android NDK</td>\n",
       "      <td>https://example.com/android-tv-portfolio</td>\n",
       "    </tr>\n",
       "    <tr>\n",
       "      <th>13</th>\n",
       "      <td>iOS, Swift, ARKit</td>\n",
       "      <td>https://example.com/ios-ar-portfolio</td>\n",
       "    </tr>\n",
       "    <tr>\n",
       "      <th>14</th>\n",
       "      <td>Cross-platform, Xamarin, Azure</td>\n",
       "      <td>https://example.com/xamarin-portfolio</td>\n",
       "    </tr>\n",
       "    <tr>\n",
       "      <th>15</th>\n",
       "      <td>Backend, Kotlin, Spring Boot</td>\n",
       "      <td>https://example.com/kotlin-backend-portfolio</td>\n",
       "    </tr>\n",
       "    <tr>\n",
       "      <th>16</th>\n",
       "      <td>Frontend, TypeScript, Angular</td>\n",
       "      <td>https://example.com/typescript-frontend-portfolio</td>\n",
       "    </tr>\n",
       "    <tr>\n",
       "      <th>17</th>\n",
       "      <td>Full-stack, JavaScript, Express.js</td>\n",
       "      <td>https://example.com/full-stack-js-portfolio</td>\n",
       "    </tr>\n",
       "    <tr>\n",
       "      <th>18</th>\n",
       "      <td>Machine Learning, Python, TensorFlow</td>\n",
       "      <td>https://example.com/ml-python-portfolio</td>\n",
       "    </tr>\n",
       "    <tr>\n",
       "      <th>19</th>\n",
       "      <td>DevOps, Jenkins, Docker</td>\n",
       "      <td>https://example.com/devops-portfolio</td>\n",
       "    </tr>\n",
       "  </tbody>\n",
       "</table>\n",
       "</div>"
      ],
      "text/plain": [
       "                               Techstack  \\\n",
       "0                React, Node.js, MongoDB   \n",
       "1               Angular,.NET, SQL Server   \n",
       "2      Vue.js, Ruby on Rails, PostgreSQL   \n",
       "3                  Python, Django, MySQL   \n",
       "4              Java, Spring Boot, Oracle   \n",
       "5             Flutter, Firebase, GraphQL   \n",
       "6                  WordPress, PHP, MySQL   \n",
       "7                    Magento, PHP, MySQL   \n",
       "8         React Native, Node.js, MongoDB   \n",
       "9                  iOS, Swift, Core Data   \n",
       "10       Android, Java, Room Persistence   \n",
       "11             Kotlin, Android, Firebase   \n",
       "12       Android TV, Kotlin, Android NDK   \n",
       "13                     iOS, Swift, ARKit   \n",
       "14        Cross-platform, Xamarin, Azure   \n",
       "15          Backend, Kotlin, Spring Boot   \n",
       "16         Frontend, TypeScript, Angular   \n",
       "17    Full-stack, JavaScript, Express.js   \n",
       "18  Machine Learning, Python, TensorFlow   \n",
       "19               DevOps, Jenkins, Docker   \n",
       "\n",
       "                                                Links  \n",
       "0                 https://example.com/react-portfolio  \n",
       "1               https://example.com/angular-portfolio  \n",
       "2                   https://example.com/vue-portfolio  \n",
       "3                https://example.com/python-portfolio  \n",
       "4                  https://example.com/java-portfolio  \n",
       "5               https://example.com/flutter-portfolio  \n",
       "6             https://example.com/wordpress-portfolio  \n",
       "7               https://example.com/magento-portfolio  \n",
       "8          https://example.com/react-native-portfolio  \n",
       "9                   https://example.com/ios-portfolio  \n",
       "10              https://example.com/android-portfolio  \n",
       "11       https://example.com/kotlin-android-portfolio  \n",
       "12           https://example.com/android-tv-portfolio  \n",
       "13               https://example.com/ios-ar-portfolio  \n",
       "14              https://example.com/xamarin-portfolio  \n",
       "15       https://example.com/kotlin-backend-portfolio  \n",
       "16  https://example.com/typescript-frontend-portfolio  \n",
       "17        https://example.com/full-stack-js-portfolio  \n",
       "18            https://example.com/ml-python-portfolio  \n",
       "19               https://example.com/devops-portfolio  "
      ]
     },
     "execution_count": 28,
     "metadata": {},
     "output_type": "execute_result"
    }
   ],
   "source": [
    "df = pd.read_csv('my_portfolio.csv')\n",
    "df"
   ]
  },
  {
   "cell_type": "code",
   "execution_count": 30,
   "id": "595e7663-e2a3-455a-87f3-c047cafa689e",
   "metadata": {},
   "outputs": [],
   "source": [
    "import uuid\n",
    "import chromadb"
   ]
  },
  {
   "cell_type": "code",
   "execution_count": 32,
   "id": "10ac5d32-c863-40fb-9daa-5940a8adb5d4",
   "metadata": {},
   "outputs": [],
   "source": [
    "client = chromadb.PersistentClient('vectorstore')\n",
    "collection = client.get_or_create_collection(name=\"portfolio\")\n",
    "\n",
    "if not collection.count():\n",
    "    for _,row in df.iterrows():\n",
    "        collection.add(\n",
    "            documents=row['Techstack'],\n",
    "            metadatas={\"links\": row['Links']},\n",
    "            ids=[str(uuid.uuid4())]\n",
    "        )"
   ]
  },
  {
   "cell_type": "code",
   "execution_count": 36,
   "id": "fecec3ab-ea30-4323-8167-d35d8b3150d6",
   "metadata": {},
   "outputs": [
    {
     "data": {
      "text/plain": [
       "['Machine Learning',\n",
       " 'Artificial Intelligence',\n",
       " 'Data Science',\n",
       " 'Software Engineering',\n",
       " 'Agile frameworks',\n",
       " 'ETL',\n",
       " 'Scikit-learn',\n",
       " 'Dask',\n",
       " 'Tensorflow',\n",
       " 'Kubeflow',\n",
       " 'Spark',\n",
       " 'EMR']"
      ]
     },
     "execution_count": 36,
     "metadata": {},
     "output_type": "execute_result"
    }
   ],
   "source": [
    "job = json_res\n",
    "job['skills']"
   ]
  },
  {
   "cell_type": "code",
   "execution_count": 40,
   "id": "eae8783b-fb22-4fa7-a83c-351b9187fcab",
   "metadata": {},
   "outputs": [
    {
     "data": {
      "text/plain": [
       "{'role': 'Senior Manager– AI/ML Engineering',\n",
       " 'experience': '7+ years of experience across multiple roles in developing productionized code in software or data engineering, machine learning or a related field',\n",
       " 'skills': ['Machine Learning',\n",
       "  'Artificial Intelligence',\n",
       "  'Data Science',\n",
       "  'Software Engineering',\n",
       "  'Agile frameworks',\n",
       "  'ETL',\n",
       "  'Scikit-learn',\n",
       "  'Dask',\n",
       "  'Tensorflow',\n",
       "  'Kubeflow',\n",
       "  'Spark',\n",
       "  'EMR'],\n",
       " 'description': 'Nike is looking for an experienced Engineering leader who can lead and grow teams of machine learning engineers, data scientists, and software architects to deliver scalable machine learning and artificial intelligence solutions to customers across our business.'}"
      ]
     },
     "execution_count": 40,
     "metadata": {},
     "output_type": "execute_result"
    }
   ],
   "source": [
    "job"
   ]
  },
  {
   "cell_type": "code",
   "execution_count": 38,
   "id": "29cc042f-227a-4ff3-9ee6-2a8c2c6f74ab",
   "metadata": {},
   "outputs": [
    {
     "data": {
      "text/plain": [
       "[[{'links': 'https://example.com/ml-python-portfolio'},\n",
       "  {'links': 'https://example.com/wordpress-portfolio'}],\n",
       " [{'links': 'https://example.com/ml-python-portfolio'},\n",
       "  {'links': 'https://example.com/magento-portfolio'}],\n",
       " [{'links': 'https://example.com/ml-python-portfolio'},\n",
       "  {'links': 'https://example.com/magento-portfolio'}],\n",
       " [{'links': 'https://example.com/ml-python-portfolio'},\n",
       "  {'links': 'https://example.com/java-portfolio'}],\n",
       " [{'links': 'https://example.com/ios-ar-portfolio'},\n",
       "  {'links': 'https://example.com/devops-portfolio'}],\n",
       " [{'links': 'https://example.com/ml-python-portfolio'},\n",
       "  {'links': 'https://example.com/android-tv-portfolio'}],\n",
       " [{'links': 'https://example.com/ml-python-portfolio'},\n",
       "  {'links': 'https://example.com/ios-ar-portfolio'}],\n",
       " [{'links': 'https://example.com/full-stack-js-portfolio'},\n",
       "  {'links': 'https://example.com/android-tv-portfolio'}],\n",
       " [{'links': 'https://example.com/ml-python-portfolio'},\n",
       "  {'links': 'https://example.com/ios-ar-portfolio'}],\n",
       " [{'links': 'https://example.com/devops-portfolio'},\n",
       "  {'links': 'https://example.com/kotlin-backend-portfolio'}],\n",
       " [{'links': 'https://example.com/kotlin-android-portfolio'},\n",
       "  {'links': 'https://example.com/kotlin-backend-portfolio'}],\n",
       " [{'links': 'https://example.com/devops-portfolio'},\n",
       "  {'links': 'https://example.com/ios-ar-portfolio'}]]"
      ]
     },
     "execution_count": 38,
     "metadata": {},
     "output_type": "execute_result"
    }
   ],
   "source": [
    "links = collection.query(query_texts=job['skills'], n_results=2).get('metadatas')\n",
    "links"
   ]
  },
  {
   "cell_type": "code",
   "execution_count": 44,
   "id": "1c8faf1d-ba6a-4dc8-a7a0-91613d5992d0",
   "metadata": {},
   "outputs": [
    {
     "name": "stdout",
     "output_type": "stream",
     "text": [
      "Subject: Expert AI/ML Engineering Solutions for Nike's Ambitious Projects\n",
      "\n",
      "Dear Hiring Manager,\n",
      "\n",
      "I came across the job description for a Senior Manager– AI/ML Engineering at Nike, and I'm excited to introduce AtliQ, a renowned AI & Software Consulting company. With our expertise in developing scalable machine learning and artificial intelligence solutions, I believe we can help Nike achieve its goals.\n",
      "\n",
      "At AtliQ, we have a proven track record of empowering enterprises with tailored solutions, fostering scalability, process optimization, cost reduction, and heightened overall efficiency. Our team of experts has extensive experience in machine learning, artificial intelligence, data science, software engineering, and agile frameworks. We're well-versed in technologies like Scikit-learn, Dask, Tensorflow, Kubeflow, Spark, and EMR, which align perfectly with Nike's requirements.\n",
      "\n",
      "Our portfolio showcases our capabilities in machine learning and AI, with notable projects featured in our [ML Python portfolio](https://example.com/ml-python-portfolio). We've also demonstrated expertise in [DevOps](https://example.com/devops-portfolio) and [iOS AR](https://example.com/ios-ar-portfolio), which can be leveraged to support Nike's innovative initiatives.\n",
      "\n",
      "I'd love to schedule a call to discuss how AtliQ can support Nike's AI/ML engineering needs. Our team is eager to collaborate and drive business growth through cutting-edge technology solutions. Please let me know if you're interested, and we can schedule a call at your convenience.\n",
      "\n",
      "Best regards,\n",
      "\n",
      "Mohan\n",
      "Business Development Executive\n",
      "AtliQ\n"
     ]
    }
   ],
   "source": [
    "prompt_email = PromptTemplate.from_template(\n",
    "        \"\"\"\n",
    "        ### JOB DESCRIPTION:\n",
    "        {job_description}\n",
    "        \n",
    "        ### INSTRUCTION:\n",
    "        You are Mohan, a business development executive at AtliQ. AtliQ is an AI & Software Consulting company dedicated to facilitating\n",
    "        the seamless integration of business processes through automated tools. \n",
    "        Over our experience, we have empowered numerous enterprises with tailored solutions, fostering scalability, \n",
    "        process optimization, cost reduction, and heightened overall efficiency. \n",
    "        Your job is to write a cold email to the client regarding the job mentioned above describing the capability of AtliQ \n",
    "        in fulfilling their needs.\n",
    "        Also add the most relevant ones from the following links to showcase Atliq's portfolio: {link_list}\n",
    "        Remember you are Mohan, BDE at AtliQ. \n",
    "        Do not provide a preamble.\n",
    "        ### EMAIL (NO PREAMBLE):\n",
    "        \n",
    "        \"\"\"\n",
    "        )\n",
    "\n",
    "chain = prompt_email | llm\n",
    "res = chain.invoke(input={'job_description': job, 'link_list': links})\n",
    "print(res.content)"
   ]
  },
  {
   "cell_type": "code",
   "execution_count": null,
   "id": "8a482ef9-0646-4621-83ec-c22ba9e8b030",
   "metadata": {},
   "outputs": [],
   "source": []
  }
 ],
 "metadata": {
  "kernelspec": {
   "display_name": "Python 3 (ipykernel)",
   "language": "python",
   "name": "python3"
  },
  "language_info": {
   "codemirror_mode": {
    "name": "ipython",
    "version": 3
   },
   "file_extension": ".py",
   "mimetype": "text/x-python",
   "name": "python",
   "nbconvert_exporter": "python",
   "pygments_lexer": "ipython3",
   "version": "3.12.4"
  }
 },
 "nbformat": 4,
 "nbformat_minor": 5
}
