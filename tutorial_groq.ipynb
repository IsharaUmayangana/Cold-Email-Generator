{
 "cells": [
  {
   "cell_type": "code",
   "execution_count": 14,
   "id": "3fdecd91-487f-4a99-a80b-215324e2d6ed",
   "metadata": {},
   "outputs": [
    {
     "name": "stdout",
     "output_type": "stream",
     "text": [
      "Note: you may need to restart the kernel to use updated packages.\n"
     ]
    }
   ],
   "source": [
    "%pip install -qU langchain-groq"
   ]
  },
  {
   "cell_type": "code",
   "execution_count": 26,
   "id": "d55d65d3-e96f-44ff-af26-3f4b1e8292f1",
   "metadata": {},
   "outputs": [],
   "source": [
    "from langchain_groq import ChatGroq\n",
    "llm = ChatGroq(\n",
    "    model=\"llama-3.3-70b-versatile\",\n",
    "    temperature=0,\n",
    "    groq_api_key=\"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\"\n",
    ")"
   ]
  },
  {
   "cell_type": "code",
   "execution_count": 28,
   "id": "a3713301-c862-489d-8426-5ef77d10aaf4",
   "metadata": {},
   "outputs": [],
   "source": [
    "response = llm.invoke(\"Who is the goat of football\")"
   ]
  },
  {
   "cell_type": "code",
   "execution_count": 32,
   "id": "6b7b926f-bd78-4afb-a486-250486b5d1d3",
   "metadata": {},
   "outputs": [
    {
     "name": "stdout",
     "output_type": "stream",
     "text": [
      "The \"GOAT\" (Greatest of All Time) in football is often a topic of debate among fans and experts. However, based on various polls, awards, and accolades, the most commonly cited candidates for the title of GOAT in football are:\n",
      "\n",
      "1. **Lionel Messi**: Regarded by many as the greatest footballer of all time, Messi has won numerous awards, including six Ballon d'Or awards, ten La Liga titles, and four UEFA Champions League titles.\n",
      "2. **Cristiano Ronaldo**: A close rival to Messi, Ronaldo has also won numerous awards, including five Ballon d'Or awards, five UEFA Champions League titles, and numerous league titles in England, Spain, and Italy.\n",
      "3. **Diego Maradona**: A legendary Argentine footballer, Maradona is widely regarded as one of the greatest players of all time, known for his exceptional skill, vision, and leadership on the pitch.\n",
      "4. **Johan Cruyff**: A Dutch football legend, Cruyff is credited with revolutionizing the game with his innovative style of play, which emphasized possession football and individual creativity.\n",
      "5. **Pele**: A Brazilian football icon, Pele is a three-time World Cup winner and widely regarded as one of the greatest players of all time, known for his speed, skill, and scoring ability.\n",
      "\n",
      "Ultimately, the title of GOAT in football is subjective and often depends on personal opinions and preferences. However, based on their achievements, skills, and impact on the game, Messi and Ronaldo are often considered the top two contenders for the title.\n",
      "\n",
      "**Some notable achievements:**\n",
      "\n",
      "* Messi:\n",
      "\t+ Most Ballon d'Or awards (6)\n",
      "\t+ Most La Liga titles (10)\n",
      "\t+ Most UEFA Champions League titles (4)\n",
      "* Ronaldo:\n",
      "\t+ Most UEFA Champions League titles (5)\n",
      "\t+ Most European Cup/UEFA Champions League goals (134)\n",
      "\t+ Most international goals (95)\n",
      "* Maradona:\n",
      "\t+ Led Argentina to World Cup victory in 1986\n",
      "\t+ Won numerous league titles in Argentina, Spain, and Italy\n",
      "\t+ Regarded as one of the greatest players of all time by many experts\n",
      "* Cruyff:\n",
      "\t+ Revolutionized the game with his innovative style of play\n",
      "\t+ Won numerous league titles in the Netherlands and Spain\n",
      "\t+ Regarded as one of the greatest players and coaches of all time\n",
      "* Pele:\n",
      "\t+ Won three World Cup titles with Brazil (1958, 1962, and 1970)\n",
      "\t+ Regarded as one of the greatest players of all time by many experts\n",
      "\t+ Scored over 1,000 goals in his career\n",
      "\n",
      "Note: The GOAT debate is ongoing, and opinions may vary depending on individual perspectives and criteria for evaluation.\n"
     ]
    }
   ],
   "source": [
    "print(response.content)"
   ]
  },
  {
   "cell_type": "code",
   "execution_count": null,
   "id": "594ff1ba-b57b-451d-850b-ce96cd8b4659",
   "metadata": {},
   "outputs": [],
   "source": []
  }
 ],
 "metadata": {
  "kernelspec": {
   "display_name": "Python 3 (ipykernel)",
   "language": "python",
   "name": "python3"
  },
  "language_info": {
   "codemirror_mode": {
    "name": "ipython",
    "version": 3
   },
   "file_extension": ".py",
   "mimetype": "text/x-python",
   "name": "python",
   "nbconvert_exporter": "python",
   "pygments_lexer": "ipython3",
   "version": "3.12.4"
  }
 },
 "nbformat": 4,
 "nbformat_minor": 5
}
